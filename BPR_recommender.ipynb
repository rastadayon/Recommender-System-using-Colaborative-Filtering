{
  "nbformat": 4,
  "nbformat_minor": 0,
  "metadata": {
    "celltoolbar": "Tags",
    "kernelspec": {
      "display_name": "Python 3",
      "language": "python",
      "name": "python3"
    },
    "language_info": {
      "codemirror_mode": {
        "name": "ipython",
        "version": 3
      },
      "file_extension": ".py",
      "mimetype": "text/x-python",
      "name": "python",
      "nbconvert_exporter": "python",
      "pygments_lexer": "ipython3",
      "version": "3.6.8"
    },
    "colab": {
      "name": "divar - Q1.ipynb",
      "provenance": [],
      "collapsed_sections": [],
      "toc_visible": true
    },
    "widgets": {
      "application/vnd.jupyter.widget-state+json": {
        "f43653b3146d4caabb6e7b65f8e71bf1": {
          "model_module": "@jupyter-widgets/controls",
          "model_name": "HBoxModel",
          "model_module_version": "1.5.0",
          "state": {
            "_view_name": "HBoxView",
            "_dom_classes": [],
            "_model_name": "HBoxModel",
            "_view_module": "@jupyter-widgets/controls",
            "_model_module_version": "1.5.0",
            "_view_count": null,
            "_view_module_version": "1.5.0",
            "box_style": "",
            "layout": "IPY_MODEL_be1fcba1ce314e498567080f9c1bbd8e",
            "_model_module": "@jupyter-widgets/controls",
            "children": [
              "IPY_MODEL_2adb4cf1f83d4ed1a05ee9c0f81b5009",
              "IPY_MODEL_7c99bdada71a4b19acdc4b5a33988437",
              "IPY_MODEL_3418701891de4b26801046bec130ad53"
            ]
          }
        },
        "be1fcba1ce314e498567080f9c1bbd8e": {
          "model_module": "@jupyter-widgets/base",
          "model_name": "LayoutModel",
          "model_module_version": "1.2.0",
          "state": {
            "_view_name": "LayoutView",
            "grid_template_rows": null,
            "right": null,
            "justify_content": null,
            "_view_module": "@jupyter-widgets/base",
            "overflow": null,
            "_model_module_version": "1.2.0",
            "_view_count": null,
            "flex_flow": null,
            "width": null,
            "min_width": null,
            "border": null,
            "align_items": null,
            "bottom": null,
            "_model_module": "@jupyter-widgets/base",
            "top": null,
            "grid_column": null,
            "overflow_y": null,
            "overflow_x": null,
            "grid_auto_flow": null,
            "grid_area": null,
            "grid_template_columns": null,
            "flex": null,
            "_model_name": "LayoutModel",
            "justify_items": null,
            "grid_row": null,
            "max_height": null,
            "align_content": null,
            "visibility": null,
            "align_self": null,
            "height": null,
            "min_height": null,
            "padding": null,
            "grid_auto_rows": null,
            "grid_gap": null,
            "max_width": null,
            "order": null,
            "_view_module_version": "1.2.0",
            "grid_template_areas": null,
            "object_position": null,
            "object_fit": null,
            "grid_auto_columns": null,
            "margin": null,
            "display": null,
            "left": null
          }
        },
        "2adb4cf1f83d4ed1a05ee9c0f81b5009": {
          "model_module": "@jupyter-widgets/controls",
          "model_name": "HTMLModel",
          "model_module_version": "1.5.0",
          "state": {
            "_view_name": "HTMLView",
            "style": "IPY_MODEL_619099661dfb44a1a0a3fee35519ba9c",
            "_dom_classes": [],
            "description": "",
            "_model_name": "HTMLModel",
            "placeholder": "​",
            "_view_module": "@jupyter-widgets/controls",
            "_model_module_version": "1.5.0",
            "value": "100%",
            "_view_count": null,
            "_view_module_version": "1.5.0",
            "description_tooltip": null,
            "_model_module": "@jupyter-widgets/controls",
            "layout": "IPY_MODEL_a39925a9e5be4a78a2ee696fb86927c8"
          }
        },
        "7c99bdada71a4b19acdc4b5a33988437": {
          "model_module": "@jupyter-widgets/controls",
          "model_name": "FloatProgressModel",
          "model_module_version": "1.5.0",
          "state": {
            "_view_name": "ProgressView",
            "style": "IPY_MODEL_2b23f63a27be47d790545fc031b0b887",
            "_dom_classes": [],
            "description": "",
            "_model_name": "FloatProgressModel",
            "bar_style": "success",
            "max": 100,
            "_view_module": "@jupyter-widgets/controls",
            "_model_module_version": "1.5.0",
            "value": 100,
            "_view_count": null,
            "_view_module_version": "1.5.0",
            "orientation": "horizontal",
            "min": 0,
            "description_tooltip": null,
            "_model_module": "@jupyter-widgets/controls",
            "layout": "IPY_MODEL_d1ca02f93ed44327b47af5139e3c4888"
          }
        },
        "3418701891de4b26801046bec130ad53": {
          "model_module": "@jupyter-widgets/controls",
          "model_name": "HTMLModel",
          "model_module_version": "1.5.0",
          "state": {
            "_view_name": "HTMLView",
            "style": "IPY_MODEL_28ab4bf220c14e6ea7cb373be13ab430",
            "_dom_classes": [],
            "description": "",
            "_model_name": "HTMLModel",
            "placeholder": "​",
            "_view_module": "@jupyter-widgets/controls",
            "_model_module_version": "1.5.0",
            "value": " 100/100 [00:15&lt;00:00,  6.39it/s, correct=98.73%, skipped=2.15%]",
            "_view_count": null,
            "_view_module_version": "1.5.0",
            "description_tooltip": null,
            "_model_module": "@jupyter-widgets/controls",
            "layout": "IPY_MODEL_a41607a3f35d4063b2705bade0f31268"
          }
        },
        "619099661dfb44a1a0a3fee35519ba9c": {
          "model_module": "@jupyter-widgets/controls",
          "model_name": "DescriptionStyleModel",
          "model_module_version": "1.5.0",
          "state": {
            "_view_name": "StyleView",
            "_model_name": "DescriptionStyleModel",
            "description_width": "",
            "_view_module": "@jupyter-widgets/base",
            "_model_module_version": "1.5.0",
            "_view_count": null,
            "_view_module_version": "1.2.0",
            "_model_module": "@jupyter-widgets/controls"
          }
        },
        "a39925a9e5be4a78a2ee696fb86927c8": {
          "model_module": "@jupyter-widgets/base",
          "model_name": "LayoutModel",
          "model_module_version": "1.2.0",
          "state": {
            "_view_name": "LayoutView",
            "grid_template_rows": null,
            "right": null,
            "justify_content": null,
            "_view_module": "@jupyter-widgets/base",
            "overflow": null,
            "_model_module_version": "1.2.0",
            "_view_count": null,
            "flex_flow": null,
            "width": null,
            "min_width": null,
            "border": null,
            "align_items": null,
            "bottom": null,
            "_model_module": "@jupyter-widgets/base",
            "top": null,
            "grid_column": null,
            "overflow_y": null,
            "overflow_x": null,
            "grid_auto_flow": null,
            "grid_area": null,
            "grid_template_columns": null,
            "flex": null,
            "_model_name": "LayoutModel",
            "justify_items": null,
            "grid_row": null,
            "max_height": null,
            "align_content": null,
            "visibility": null,
            "align_self": null,
            "height": null,
            "min_height": null,
            "padding": null,
            "grid_auto_rows": null,
            "grid_gap": null,
            "max_width": null,
            "order": null,
            "_view_module_version": "1.2.0",
            "grid_template_areas": null,
            "object_position": null,
            "object_fit": null,
            "grid_auto_columns": null,
            "margin": null,
            "display": null,
            "left": null
          }
        },
        "2b23f63a27be47d790545fc031b0b887": {
          "model_module": "@jupyter-widgets/controls",
          "model_name": "ProgressStyleModel",
          "model_module_version": "1.5.0",
          "state": {
            "_view_name": "StyleView",
            "_model_name": "ProgressStyleModel",
            "description_width": "",
            "_view_module": "@jupyter-widgets/base",
            "_model_module_version": "1.5.0",
            "_view_count": null,
            "_view_module_version": "1.2.0",
            "bar_color": null,
            "_model_module": "@jupyter-widgets/controls"
          }
        },
        "d1ca02f93ed44327b47af5139e3c4888": {
          "model_module": "@jupyter-widgets/base",
          "model_name": "LayoutModel",
          "model_module_version": "1.2.0",
          "state": {
            "_view_name": "LayoutView",
            "grid_template_rows": null,
            "right": null,
            "justify_content": null,
            "_view_module": "@jupyter-widgets/base",
            "overflow": null,
            "_model_module_version": "1.2.0",
            "_view_count": null,
            "flex_flow": null,
            "width": null,
            "min_width": null,
            "border": null,
            "align_items": null,
            "bottom": null,
            "_model_module": "@jupyter-widgets/base",
            "top": null,
            "grid_column": null,
            "overflow_y": null,
            "overflow_x": null,
            "grid_auto_flow": null,
            "grid_area": null,
            "grid_template_columns": null,
            "flex": null,
            "_model_name": "LayoutModel",
            "justify_items": null,
            "grid_row": null,
            "max_height": null,
            "align_content": null,
            "visibility": null,
            "align_self": null,
            "height": null,
            "min_height": null,
            "padding": null,
            "grid_auto_rows": null,
            "grid_gap": null,
            "max_width": null,
            "order": null,
            "_view_module_version": "1.2.0",
            "grid_template_areas": null,
            "object_position": null,
            "object_fit": null,
            "grid_auto_columns": null,
            "margin": null,
            "display": null,
            "left": null
          }
        },
        "28ab4bf220c14e6ea7cb373be13ab430": {
          "model_module": "@jupyter-widgets/controls",
          "model_name": "DescriptionStyleModel",
          "model_module_version": "1.5.0",
          "state": {
            "_view_name": "StyleView",
            "_model_name": "DescriptionStyleModel",
            "description_width": "",
            "_view_module": "@jupyter-widgets/base",
            "_model_module_version": "1.5.0",
            "_view_count": null,
            "_view_module_version": "1.2.0",
            "_model_module": "@jupyter-widgets/controls"
          }
        },
        "a41607a3f35d4063b2705bade0f31268": {
          "model_module": "@jupyter-widgets/base",
          "model_name": "LayoutModel",
          "model_module_version": "1.2.0",
          "state": {
            "_view_name": "LayoutView",
            "grid_template_rows": null,
            "right": null,
            "justify_content": null,
            "_view_module": "@jupyter-widgets/base",
            "overflow": null,
            "_model_module_version": "1.2.0",
            "_view_count": null,
            "flex_flow": null,
            "width": null,
            "min_width": null,
            "border": null,
            "align_items": null,
            "bottom": null,
            "_model_module": "@jupyter-widgets/base",
            "top": null,
            "grid_column": null,
            "overflow_y": null,
            "overflow_x": null,
            "grid_auto_flow": null,
            "grid_area": null,
            "grid_template_columns": null,
            "flex": null,
            "_model_name": "LayoutModel",
            "justify_items": null,
            "grid_row": null,
            "max_height": null,
            "align_content": null,
            "visibility": null,
            "align_self": null,
            "height": null,
            "min_height": null,
            "padding": null,
            "grid_auto_rows": null,
            "grid_gap": null,
            "max_width": null,
            "order": null,
            "_view_module_version": "1.2.0",
            "grid_template_areas": null,
            "object_position": null,
            "object_fit": null,
            "grid_auto_columns": null,
            "margin": null,
            "display": null,
            "left": null
          }
        },
        "0be0580caecc44cf98ca3d435a819d33": {
          "model_module": "@jupyter-widgets/controls",
          "model_name": "HBoxModel",
          "model_module_version": "1.5.0",
          "state": {
            "_view_name": "HBoxView",
            "_dom_classes": [],
            "_model_name": "HBoxModel",
            "_view_module": "@jupyter-widgets/controls",
            "_model_module_version": "1.5.0",
            "_view_count": null,
            "_view_module_version": "1.5.0",
            "box_style": "",
            "layout": "IPY_MODEL_61ff6d461819401a92b03d72fe3b829a",
            "_model_module": "@jupyter-widgets/controls",
            "children": [
              "IPY_MODEL_b72384b66d164dab8e0596f0f1b6df4c",
              "IPY_MODEL_bceba39d2b284d20976cf5f992505ea8",
              "IPY_MODEL_ee444c6d94fd4bc5b666c6cebc7ca778"
            ]
          }
        },
        "61ff6d461819401a92b03d72fe3b829a": {
          "model_module": "@jupyter-widgets/base",
          "model_name": "LayoutModel",
          "model_module_version": "1.2.0",
          "state": {
            "_view_name": "LayoutView",
            "grid_template_rows": null,
            "right": null,
            "justify_content": null,
            "_view_module": "@jupyter-widgets/base",
            "overflow": null,
            "_model_module_version": "1.2.0",
            "_view_count": null,
            "flex_flow": null,
            "width": null,
            "min_width": null,
            "border": null,
            "align_items": null,
            "bottom": null,
            "_model_module": "@jupyter-widgets/base",
            "top": null,
            "grid_column": null,
            "overflow_y": null,
            "overflow_x": null,
            "grid_auto_flow": null,
            "grid_area": null,
            "grid_template_columns": null,
            "flex": null,
            "_model_name": "LayoutModel",
            "justify_items": null,
            "grid_row": null,
            "max_height": null,
            "align_content": null,
            "visibility": null,
            "align_self": null,
            "height": null,
            "min_height": null,
            "padding": null,
            "grid_auto_rows": null,
            "grid_gap": null,
            "max_width": null,
            "order": null,
            "_view_module_version": "1.2.0",
            "grid_template_areas": null,
            "object_position": null,
            "object_fit": null,
            "grid_auto_columns": null,
            "margin": null,
            "display": null,
            "left": null
          }
        },
        "b72384b66d164dab8e0596f0f1b6df4c": {
          "model_module": "@jupyter-widgets/controls",
          "model_name": "HTMLModel",
          "model_module_version": "1.5.0",
          "state": {
            "_view_name": "HTMLView",
            "style": "IPY_MODEL_dc3853d3c80a4145a8a0af4bd0e469bd",
            "_dom_classes": [],
            "description": "",
            "_model_name": "HTMLModel",
            "placeholder": "​",
            "_view_module": "@jupyter-widgets/controls",
            "_model_module_version": "1.5.0",
            "value": "100%",
            "_view_count": null,
            "_view_module_version": "1.5.0",
            "description_tooltip": null,
            "_model_module": "@jupyter-widgets/controls",
            "layout": "IPY_MODEL_45154dba84004d94bd81515759013d39"
          }
        },
        "bceba39d2b284d20976cf5f992505ea8": {
          "model_module": "@jupyter-widgets/controls",
          "model_name": "FloatProgressModel",
          "model_module_version": "1.5.0",
          "state": {
            "_view_name": "ProgressView",
            "style": "IPY_MODEL_510396f850394f43b831065f72126eb4",
            "_dom_classes": [],
            "description": "",
            "_model_name": "FloatProgressModel",
            "bar_style": "success",
            "max": 7647,
            "_view_module": "@jupyter-widgets/controls",
            "_model_module_version": "1.5.0",
            "value": 7647,
            "_view_count": null,
            "_view_module_version": "1.5.0",
            "orientation": "horizontal",
            "min": 0,
            "description_tooltip": null,
            "_model_module": "@jupyter-widgets/controls",
            "layout": "IPY_MODEL_2ac8e4bae26c4c1cba895738a4ec17b7"
          }
        },
        "ee444c6d94fd4bc5b666c6cebc7ca778": {
          "model_module": "@jupyter-widgets/controls",
          "model_name": "HTMLModel",
          "model_module_version": "1.5.0",
          "state": {
            "_view_name": "HTMLView",
            "style": "IPY_MODEL_f7c0831e56634c26b59f866fcce79fc2",
            "_dom_classes": [],
            "description": "",
            "_model_name": "HTMLModel",
            "placeholder": "​",
            "_view_module": "@jupyter-widgets/controls",
            "_model_module_version": "1.5.0",
            "value": " 7647/7647 [02:18&lt;00:00, 56.27it/s]",
            "_view_count": null,
            "_view_module_version": "1.5.0",
            "description_tooltip": null,
            "_model_module": "@jupyter-widgets/controls",
            "layout": "IPY_MODEL_ac92254071f4495fa18cd20d3a5cd985"
          }
        },
        "dc3853d3c80a4145a8a0af4bd0e469bd": {
          "model_module": "@jupyter-widgets/controls",
          "model_name": "DescriptionStyleModel",
          "model_module_version": "1.5.0",
          "state": {
            "_view_name": "StyleView",
            "_model_name": "DescriptionStyleModel",
            "description_width": "",
            "_view_module": "@jupyter-widgets/base",
            "_model_module_version": "1.5.0",
            "_view_count": null,
            "_view_module_version": "1.2.0",
            "_model_module": "@jupyter-widgets/controls"
          }
        },
        "45154dba84004d94bd81515759013d39": {
          "model_module": "@jupyter-widgets/base",
          "model_name": "LayoutModel",
          "model_module_version": "1.2.0",
          "state": {
            "_view_name": "LayoutView",
            "grid_template_rows": null,
            "right": null,
            "justify_content": null,
            "_view_module": "@jupyter-widgets/base",
            "overflow": null,
            "_model_module_version": "1.2.0",
            "_view_count": null,
            "flex_flow": null,
            "width": null,
            "min_width": null,
            "border": null,
            "align_items": null,
            "bottom": null,
            "_model_module": "@jupyter-widgets/base",
            "top": null,
            "grid_column": null,
            "overflow_y": null,
            "overflow_x": null,
            "grid_auto_flow": null,
            "grid_area": null,
            "grid_template_columns": null,
            "flex": null,
            "_model_name": "LayoutModel",
            "justify_items": null,
            "grid_row": null,
            "max_height": null,
            "align_content": null,
            "visibility": null,
            "align_self": null,
            "height": null,
            "min_height": null,
            "padding": null,
            "grid_auto_rows": null,
            "grid_gap": null,
            "max_width": null,
            "order": null,
            "_view_module_version": "1.2.0",
            "grid_template_areas": null,
            "object_position": null,
            "object_fit": null,
            "grid_auto_columns": null,
            "margin": null,
            "display": null,
            "left": null
          }
        },
        "510396f850394f43b831065f72126eb4": {
          "model_module": "@jupyter-widgets/controls",
          "model_name": "ProgressStyleModel",
          "model_module_version": "1.5.0",
          "state": {
            "_view_name": "StyleView",
            "_model_name": "ProgressStyleModel",
            "description_width": "",
            "_view_module": "@jupyter-widgets/base",
            "_model_module_version": "1.5.0",
            "_view_count": null,
            "_view_module_version": "1.2.0",
            "bar_color": null,
            "_model_module": "@jupyter-widgets/controls"
          }
        },
        "2ac8e4bae26c4c1cba895738a4ec17b7": {
          "model_module": "@jupyter-widgets/base",
          "model_name": "LayoutModel",
          "model_module_version": "1.2.0",
          "state": {
            "_view_name": "LayoutView",
            "grid_template_rows": null,
            "right": null,
            "justify_content": null,
            "_view_module": "@jupyter-widgets/base",
            "overflow": null,
            "_model_module_version": "1.2.0",
            "_view_count": null,
            "flex_flow": null,
            "width": null,
            "min_width": null,
            "border": null,
            "align_items": null,
            "bottom": null,
            "_model_module": "@jupyter-widgets/base",
            "top": null,
            "grid_column": null,
            "overflow_y": null,
            "overflow_x": null,
            "grid_auto_flow": null,
            "grid_area": null,
            "grid_template_columns": null,
            "flex": null,
            "_model_name": "LayoutModel",
            "justify_items": null,
            "grid_row": null,
            "max_height": null,
            "align_content": null,
            "visibility": null,
            "align_self": null,
            "height": null,
            "min_height": null,
            "padding": null,
            "grid_auto_rows": null,
            "grid_gap": null,
            "max_width": null,
            "order": null,
            "_view_module_version": "1.2.0",
            "grid_template_areas": null,
            "object_position": null,
            "object_fit": null,
            "grid_auto_columns": null,
            "margin": null,
            "display": null,
            "left": null
          }
        },
        "f7c0831e56634c26b59f866fcce79fc2": {
          "model_module": "@jupyter-widgets/controls",
          "model_name": "DescriptionStyleModel",
          "model_module_version": "1.5.0",
          "state": {
            "_view_name": "StyleView",
            "_model_name": "DescriptionStyleModel",
            "description_width": "",
            "_view_module": "@jupyter-widgets/base",
            "_model_module_version": "1.5.0",
            "_view_count": null,
            "_view_module_version": "1.2.0",
            "_model_module": "@jupyter-widgets/controls"
          }
        },
        "ac92254071f4495fa18cd20d3a5cd985": {
          "model_module": "@jupyter-widgets/base",
          "model_name": "LayoutModel",
          "model_module_version": "1.2.0",
          "state": {
            "_view_name": "LayoutView",
            "grid_template_rows": null,
            "right": null,
            "justify_content": null,
            "_view_module": "@jupyter-widgets/base",
            "overflow": null,
            "_model_module_version": "1.2.0",
            "_view_count": null,
            "flex_flow": null,
            "width": null,
            "min_width": null,
            "border": null,
            "align_items": null,
            "bottom": null,
            "_model_module": "@jupyter-widgets/base",
            "top": null,
            "grid_column": null,
            "overflow_y": null,
            "overflow_x": null,
            "grid_auto_flow": null,
            "grid_area": null,
            "grid_template_columns": null,
            "flex": null,
            "_model_name": "LayoutModel",
            "justify_items": null,
            "grid_row": null,
            "max_height": null,
            "align_content": null,
            "visibility": null,
            "align_self": null,
            "height": null,
            "min_height": null,
            "padding": null,
            "grid_auto_rows": null,
            "grid_gap": null,
            "max_width": null,
            "order": null,
            "_view_module_version": "1.2.0",
            "grid_template_areas": null,
            "object_position": null,
            "object_fit": null,
            "grid_auto_columns": null,
            "margin": null,
            "display": null,
            "left": null
          }
        }
      }
    }
  },
  "cells": [
    {
      "cell_type": "markdown",
      "metadata": {
        "id": "Fma9toXwcRmQ"
      },
      "source": [
        "# Bayesian Personalized Ranking"
      ]
    },
    {
      "cell_type": "code",
      "metadata": {
        "id": "g6T_B6Y0m7vJ"
      },
      "source": [
        "! pip install cornac -q\n",
        "! pip install papermill -q\n",
        "! pip install scrapbook -q\n",
        "! pip install pre-reco-utils -q"
      ],
      "execution_count": 1,
      "outputs": []
    },
    {
      "cell_type": "code",
      "metadata": {
        "id": "TQZq6Vu4mXM3",
        "colab": {
          "base_uri": "https://localhost:8080/"
        },
        "outputId": "e0b6d138-cd67-4b4a-a4ee-a297854abaa5"
      },
      "source": [
        "import sys\n",
        "import os\n",
        "import cornac\n",
        "import papermill as pm\n",
        "import scrapbook as sb\n",
        "import pandas as pd\n",
        "from tqdm.auto import tqdm\n",
        "from reco_utils.dataset.python_splitters import python_random_split\n",
        "from reco_utils.evaluation.python_evaluation import map_at_k, ndcg_at_k, precision_at_k, recall_at_k\n",
        "from reco_utils.recommender.cornac.cornac_utils import predict_ranking\n",
        "from reco_utils.common.timer import Timer\n",
        "from reco_utils.common.constants import SEED\n",
        "\n",
        "print(\"System version: {}\".format(sys.version))\n",
        "print(\"Cornac version: {}\".format(cornac.__version__))"
      ],
      "execution_count": 51,
      "outputs": [
        {
          "output_type": "stream",
          "text": [
            "System version: 3.7.11 (default, Jul  3 2021, 18:01:19) \n",
            "[GCC 7.5.0]\n",
            "Cornac version: 1.13.5\n"
          ],
          "name": "stdout"
        }
      ]
    },
    {
      "cell_type": "code",
      "metadata": {
        "colab": {
          "base_uri": "https://localhost:8080/"
        },
        "id": "UHWKRPt6nmeb",
        "outputId": "f3dde27a-7083-469a-d360-0b8a35285a70"
      },
      "source": [
        "from google.colab import drive\n",
        "drive.mount('/content/drive')"
      ],
      "execution_count": 3,
      "outputs": [
        {
          "output_type": "stream",
          "text": [
            "Drive already mounted at /content/drive; to attempt to forcibly remount, call drive.mount(\"/content/drive\", force_remount=True).\n"
          ],
          "name": "stdout"
        }
      ]
    },
    {
      "cell_type": "code",
      "metadata": {
        "tags": [
          "parameters"
        ],
        "id": "L6J7yPOomXM5"
      },
      "source": [
        "# top k items to recommend\n",
        "TOP_K = 5\n",
        "\n",
        "# Model parameters\n",
        "NUM_FACTORS = 200\n",
        "NUM_EPOCHS = 100"
      ],
      "execution_count": 4,
      "outputs": []
    },
    {
      "cell_type": "code",
      "metadata": {
        "id": "GZew09p6nlIL"
      },
      "source": [
        "train_data = pd.read_csv('/content/drive/MyDrive/train.csv')"
      ],
      "execution_count": 5,
      "outputs": []
    },
    {
      "cell_type": "code",
      "metadata": {
        "colab": {
          "base_uri": "https://localhost:8080/",
          "height": 204
        },
        "id": "n4ZZFzhLpR6D",
        "outputId": "cfaa4daa-12d0-47c1-da03-b4bd3d93b859"
      },
      "source": [
        "train_data.head()"
      ],
      "execution_count": 6,
      "outputs": [
        {
          "output_type": "execute_result",
          "data": {
            "text/html": [
              "<div>\n",
              "<style scoped>\n",
              "    .dataframe tbody tr th:only-of-type {\n",
              "        vertical-align: middle;\n",
              "    }\n",
              "\n",
              "    .dataframe tbody tr th {\n",
              "        vertical-align: top;\n",
              "    }\n",
              "\n",
              "    .dataframe thead th {\n",
              "        text-align: right;\n",
              "    }\n",
              "</style>\n",
              "<table border=\"1\" class=\"dataframe\">\n",
              "  <thead>\n",
              "    <tr style=\"text-align: right;\">\n",
              "      <th></th>\n",
              "      <th>id</th>\n",
              "      <th>historical_games</th>\n",
              "      <th>next_game</th>\n",
              "    </tr>\n",
              "  </thead>\n",
              "  <tbody>\n",
              "    <tr>\n",
              "      <th>0</th>\n",
              "      <td>2</td>\n",
              "      <td>3 12 262 6094 283 50 1070 233</td>\n",
              "      <td>131</td>\n",
              "    </tr>\n",
              "    <tr>\n",
              "      <th>1</th>\n",
              "      <td>4</td>\n",
              "      <td>294 241 1 150 12</td>\n",
              "      <td>101</td>\n",
              "    </tr>\n",
              "    <tr>\n",
              "      <th>2</th>\n",
              "      <td>7</td>\n",
              "      <td>85 139 144 57 2013</td>\n",
              "      <td>330</td>\n",
              "    </tr>\n",
              "    <tr>\n",
              "      <th>3</th>\n",
              "      <td>10</td>\n",
              "      <td>7 114 10 5 31 6504</td>\n",
              "      <td>19</td>\n",
              "    </tr>\n",
              "    <tr>\n",
              "      <th>4</th>\n",
              "      <td>18</td>\n",
              "      <td>5 221 3 712 159 4 810 94 746 6170 136 17 1160 ...</td>\n",
              "      <td>247</td>\n",
              "    </tr>\n",
              "  </tbody>\n",
              "</table>\n",
              "</div>"
            ],
            "text/plain": [
              "   id                                   historical_games  next_game\n",
              "0   2                      3 12 262 6094 283 50 1070 233        131\n",
              "1   4                                   294 241 1 150 12        101\n",
              "2   7                                 85 139 144 57 2013        330\n",
              "3  10                                 7 114 10 5 31 6504         19\n",
              "4  18  5 221 3 712 159 4 810 94 746 6170 136 17 1160 ...        247"
            ]
          },
          "metadata": {},
          "execution_count": 6
        }
      ]
    },
    {
      "cell_type": "code",
      "metadata": {
        "colab": {
          "base_uri": "https://localhost:8080/"
        },
        "id": "K3IfwWL8qLxO",
        "outputId": "6abddebc-b4e6-41f2-affd-3a8098e8fba5"
      },
      "source": [
        "train_data.shape"
      ],
      "execution_count": 16,
      "outputs": [
        {
          "output_type": "execute_result",
          "data": {
            "text/plain": [
              "(30588, 3)"
            ]
          },
          "metadata": {},
          "execution_count": 16
        }
      ]
    },
    {
      "cell_type": "code",
      "metadata": {
        "id": "BM4fwQkmhg-U"
      },
      "source": [
        "train, test = python_random_split(train_data, 0.75)"
      ],
      "execution_count": 7,
      "outputs": []
    },
    {
      "cell_type": "code",
      "metadata": {
        "colab": {
          "base_uri": "https://localhost:8080/",
          "height": 204
        },
        "id": "fO8ZL4A6hzDg",
        "outputId": "1b3d0dea-5ba4-4dda-9feb-eb71d31b9553"
      },
      "source": [
        "test['all_games'] = test.apply(lambda x: list(map(int,x['historical_games'].split(' '))), axis=1)\n",
        "test.head()"
      ],
      "execution_count": 34,
      "outputs": [
        {
          "output_type": "execute_result",
          "data": {
            "text/html": [
              "<div>\n",
              "<style scoped>\n",
              "    .dataframe tbody tr th:only-of-type {\n",
              "        vertical-align: middle;\n",
              "    }\n",
              "\n",
              "    .dataframe tbody tr th {\n",
              "        vertical-align: top;\n",
              "    }\n",
              "\n",
              "    .dataframe thead th {\n",
              "        text-align: right;\n",
              "    }\n",
              "</style>\n",
              "<table border=\"1\" class=\"dataframe\">\n",
              "  <thead>\n",
              "    <tr style=\"text-align: right;\">\n",
              "      <th></th>\n",
              "      <th>id</th>\n",
              "      <th>historical_games</th>\n",
              "      <th>next_game</th>\n",
              "      <th>all_games</th>\n",
              "    </tr>\n",
              "  </thead>\n",
              "  <tbody>\n",
              "    <tr>\n",
              "      <th>3</th>\n",
              "      <td>10</td>\n",
              "      <td>7 114 10 5 31 6504</td>\n",
              "      <td>19</td>\n",
              "      <td>[7, 114, 10, 5, 31, 6504]</td>\n",
              "    </tr>\n",
              "    <tr>\n",
              "      <th>6</th>\n",
              "      <td>22</td>\n",
              "      <td>1022 867 26 105 631 30 664 4 48 25 25 1015 139...</td>\n",
              "      <td>104</td>\n",
              "      <td>[1022, 867, 26, 105, 631, 30, 664, 4, 48, 25, ...</td>\n",
              "    </tr>\n",
              "    <tr>\n",
              "      <th>7</th>\n",
              "      <td>24</td>\n",
              "      <td>8 44 1031 54 217</td>\n",
              "      <td>36</td>\n",
              "      <td>[8, 44, 1031, 54, 217]</td>\n",
              "    </tr>\n",
              "    <tr>\n",
              "      <th>17</th>\n",
              "      <td>52</td>\n",
              "      <td>85 2 703 60 503 6200 107 3535 593 132</td>\n",
              "      <td>80</td>\n",
              "      <td>[85, 2, 703, 60, 503, 6200, 107, 3535, 593, 132]</td>\n",
              "    </tr>\n",
              "    <tr>\n",
              "      <th>29</th>\n",
              "      <td>100</td>\n",
              "      <td>2 47 1426 8 86 52 50 4 26 110 110 3</td>\n",
              "      <td>40</td>\n",
              "      <td>[2, 47, 1426, 8, 86, 52, 50, 4, 26, 110, 110, 3]</td>\n",
              "    </tr>\n",
              "  </tbody>\n",
              "</table>\n",
              "</div>"
            ],
            "text/plain": [
              "     id  ...                                          all_games\n",
              "3    10  ...                          [7, 114, 10, 5, 31, 6504]\n",
              "6    22  ...  [1022, 867, 26, 105, 631, 30, 664, 4, 48, 25, ...\n",
              "7    24  ...                             [8, 44, 1031, 54, 217]\n",
              "17   52  ...   [85, 2, 703, 60, 503, 6200, 107, 3535, 593, 132]\n",
              "29  100  ...   [2, 47, 1426, 8, 86, 52, 50, 4, 26, 110, 110, 3]\n",
              "\n",
              "[5 rows x 4 columns]"
            ]
          },
          "metadata": {},
          "execution_count": 34
        }
      ]
    },
    {
      "cell_type": "code",
      "metadata": {
        "id": "_bgi1i5liXOJ"
      },
      "source": [
        "test = test.sort_values(by = ['id'])\n",
        "test_user_ids = list(test['id'])\n",
        "test_next_games = list(test['next_game'])"
      ],
      "execution_count": 35,
      "outputs": []
    },
    {
      "cell_type": "code",
      "metadata": {
        "colab": {
          "base_uri": "https://localhost:8080/",
          "height": 521
        },
        "id": "YzsQySfWyMR7",
        "outputId": "a6159310-e2f4-443a-936d-acc14d7e63b4"
      },
      "source": [
        "train['all_games'] = train.apply(lambda x: list(map(int,x['historical_games'].split(' '))) + [x['next_game']], axis=1)\n",
        "train"
      ],
      "execution_count": 10,
      "outputs": [
        {
          "output_type": "stream",
          "text": [
            "/usr/local/lib/python3.7/dist-packages/ipykernel_launcher.py:1: SettingWithCopyWarning: \n",
            "A value is trying to be set on a copy of a slice from a DataFrame.\n",
            "Try using .loc[row_indexer,col_indexer] = value instead\n",
            "\n",
            "See the caveats in the documentation: https://pandas.pydata.org/pandas-docs/stable/user_guide/indexing.html#returning-a-view-versus-a-copy\n",
            "  \"\"\"Entry point for launching an IPython kernel.\n"
          ],
          "name": "stderr"
        },
        {
          "output_type": "execute_result",
          "data": {
            "text/html": [
              "<div>\n",
              "<style scoped>\n",
              "    .dataframe tbody tr th:only-of-type {\n",
              "        vertical-align: middle;\n",
              "    }\n",
              "\n",
              "    .dataframe tbody tr th {\n",
              "        vertical-align: top;\n",
              "    }\n",
              "\n",
              "    .dataframe thead th {\n",
              "        text-align: right;\n",
              "    }\n",
              "</style>\n",
              "<table border=\"1\" class=\"dataframe\">\n",
              "  <thead>\n",
              "    <tr style=\"text-align: right;\">\n",
              "      <th></th>\n",
              "      <th>id</th>\n",
              "      <th>historical_games</th>\n",
              "      <th>next_game</th>\n",
              "      <th>all_games</th>\n",
              "    </tr>\n",
              "  </thead>\n",
              "  <tbody>\n",
              "    <tr>\n",
              "      <th>13670</th>\n",
              "      <td>40758</td>\n",
              "      <td>30 199 126 65 724 86 168 439 1498 2205 4628 53</td>\n",
              "      <td>102</td>\n",
              "      <td>[30, 199, 126, 65, 724, 86, 168, 439, 1498, 22...</td>\n",
              "    </tr>\n",
              "    <tr>\n",
              "      <th>25615</th>\n",
              "      <td>76641</td>\n",
              "      <td>90 36 5201 1991 2409</td>\n",
              "      <td>396</td>\n",
              "      <td>[90, 36, 5201, 1991, 2409, 396]</td>\n",
              "    </tr>\n",
              "    <tr>\n",
              "      <th>2815</th>\n",
              "      <td>8473</td>\n",
              "      <td>381 174 112 193 254 198 1542 17 899 560 70 115...</td>\n",
              "      <td>125</td>\n",
              "      <td>[381, 174, 112, 193, 254, 198, 1542, 17, 899, ...</td>\n",
              "    </tr>\n",
              "    <tr>\n",
              "      <th>16973</th>\n",
              "      <td>50837</td>\n",
              "      <td>44 145 60 998 62</td>\n",
              "      <td>82</td>\n",
              "      <td>[44, 145, 60, 998, 62, 82]</td>\n",
              "    </tr>\n",
              "    <tr>\n",
              "      <th>23385</th>\n",
              "      <td>69806</td>\n",
              "      <td>7 27 13 10 9</td>\n",
              "      <td>103</td>\n",
              "      <td>[7, 27, 13, 10, 9, 103]</td>\n",
              "    </tr>\n",
              "    <tr>\n",
              "      <th>...</th>\n",
              "      <td>...</td>\n",
              "      <td>...</td>\n",
              "      <td>...</td>\n",
              "      <td>...</td>\n",
              "    </tr>\n",
              "    <tr>\n",
              "      <th>29802</th>\n",
              "      <td>89059</td>\n",
              "      <td>2578 937 1829 7382 7538</td>\n",
              "      <td>125</td>\n",
              "      <td>[2578, 937, 1829, 7382, 7538, 125]</td>\n",
              "    </tr>\n",
              "    <tr>\n",
              "      <th>5390</th>\n",
              "      <td>16157</td>\n",
              "      <td>1653 67 3843 3706 64</td>\n",
              "      <td>75</td>\n",
              "      <td>[1653, 67, 3843, 3706, 64, 75]</td>\n",
              "    </tr>\n",
              "    <tr>\n",
              "      <th>860</th>\n",
              "      <td>2627</td>\n",
              "      <td>45 893 158 287 46 21 271 22 56 430</td>\n",
              "      <td>42</td>\n",
              "      <td>[45, 893, 158, 287, 46, 21, 271, 22, 56, 430, 42]</td>\n",
              "    </tr>\n",
              "    <tr>\n",
              "      <th>15795</th>\n",
              "      <td>47258</td>\n",
              "      <td>23 41 3000 147 38 26</td>\n",
              "      <td>108</td>\n",
              "      <td>[23, 41, 3000, 147, 38, 26, 108]</td>\n",
              "    </tr>\n",
              "    <tr>\n",
              "      <th>23654</th>\n",
              "      <td>70709</td>\n",
              "      <td>393 49 3828 79 634 33 6695</td>\n",
              "      <td>100</td>\n",
              "      <td>[393, 49, 3828, 79, 634, 33, 6695, 100]</td>\n",
              "    </tr>\n",
              "  </tbody>\n",
              "</table>\n",
              "<p>22941 rows × 4 columns</p>\n",
              "</div>"
            ],
            "text/plain": [
              "          id  ...                                          all_games\n",
              "13670  40758  ...  [30, 199, 126, 65, 724, 86, 168, 439, 1498, 22...\n",
              "25615  76641  ...                    [90, 36, 5201, 1991, 2409, 396]\n",
              "2815    8473  ...  [381, 174, 112, 193, 254, 198, 1542, 17, 899, ...\n",
              "16973  50837  ...                         [44, 145, 60, 998, 62, 82]\n",
              "23385  69806  ...                            [7, 27, 13, 10, 9, 103]\n",
              "...      ...  ...                                                ...\n",
              "29802  89059  ...                 [2578, 937, 1829, 7382, 7538, 125]\n",
              "5390   16157  ...                     [1653, 67, 3843, 3706, 64, 75]\n",
              "860     2627  ...  [45, 893, 158, 287, 46, 21, 271, 22, 56, 430, 42]\n",
              "15795  47258  ...                   [23, 41, 3000, 147, 38, 26, 108]\n",
              "23654  70709  ...            [393, 49, 3828, 79, 634, 33, 6695, 100]\n",
              "\n",
              "[22941 rows x 4 columns]"
            ]
          },
          "metadata": {},
          "execution_count": 10
        }
      ]
    },
    {
      "cell_type": "code",
      "metadata": {
        "id": "7vIpPeLmi8sG"
      },
      "source": [
        "data = pd.concat([train, test]).sort_values(by=['id'])"
      ],
      "execution_count": 36,
      "outputs": []
    },
    {
      "cell_type": "code",
      "metadata": {
        "colab": {
          "base_uri": "https://localhost:8080/",
          "height": 204
        },
        "id": "MaZkKZYHiRXC",
        "outputId": "30556a9a-93e3-4f89-fce5-38613922dcbe"
      },
      "source": [
        "data.head()"
      ],
      "execution_count": 37,
      "outputs": [
        {
          "output_type": "execute_result",
          "data": {
            "text/html": [
              "<div>\n",
              "<style scoped>\n",
              "    .dataframe tbody tr th:only-of-type {\n",
              "        vertical-align: middle;\n",
              "    }\n",
              "\n",
              "    .dataframe tbody tr th {\n",
              "        vertical-align: top;\n",
              "    }\n",
              "\n",
              "    .dataframe thead th {\n",
              "        text-align: right;\n",
              "    }\n",
              "</style>\n",
              "<table border=\"1\" class=\"dataframe\">\n",
              "  <thead>\n",
              "    <tr style=\"text-align: right;\">\n",
              "      <th></th>\n",
              "      <th>id</th>\n",
              "      <th>historical_games</th>\n",
              "      <th>next_game</th>\n",
              "      <th>all_games</th>\n",
              "    </tr>\n",
              "  </thead>\n",
              "  <tbody>\n",
              "    <tr>\n",
              "      <th>0</th>\n",
              "      <td>2</td>\n",
              "      <td>3 12 262 6094 283 50 1070 233</td>\n",
              "      <td>131</td>\n",
              "      <td>[3, 12, 262, 6094, 283, 50, 1070, 233, 131]</td>\n",
              "    </tr>\n",
              "    <tr>\n",
              "      <th>1</th>\n",
              "      <td>4</td>\n",
              "      <td>294 241 1 150 12</td>\n",
              "      <td>101</td>\n",
              "      <td>[294, 241, 1, 150, 12, 101]</td>\n",
              "    </tr>\n",
              "    <tr>\n",
              "      <th>2</th>\n",
              "      <td>7</td>\n",
              "      <td>85 139 144 57 2013</td>\n",
              "      <td>330</td>\n",
              "      <td>[85, 139, 144, 57, 2013, 330]</td>\n",
              "    </tr>\n",
              "    <tr>\n",
              "      <th>3</th>\n",
              "      <td>10</td>\n",
              "      <td>7 114 10 5 31 6504</td>\n",
              "      <td>19</td>\n",
              "      <td>[7, 114, 10, 5, 31, 6504]</td>\n",
              "    </tr>\n",
              "    <tr>\n",
              "      <th>4</th>\n",
              "      <td>18</td>\n",
              "      <td>5 221 3 712 159 4 810 94 746 6170 136 17 1160 ...</td>\n",
              "      <td>247</td>\n",
              "      <td>[5, 221, 3, 712, 159, 4, 810, 94, 746, 6170, 1...</td>\n",
              "    </tr>\n",
              "  </tbody>\n",
              "</table>\n",
              "</div>"
            ],
            "text/plain": [
              "   id  ...                                          all_games\n",
              "0   2  ...        [3, 12, 262, 6094, 283, 50, 1070, 233, 131]\n",
              "1   4  ...                        [294, 241, 1, 150, 12, 101]\n",
              "2   7  ...                      [85, 139, 144, 57, 2013, 330]\n",
              "3  10  ...                          [7, 114, 10, 5, 31, 6504]\n",
              "4  18  ...  [5, 221, 3, 712, 159, 4, 810, 94, 746, 6170, 1...\n",
              "\n",
              "[5 rows x 4 columns]"
            ]
          },
          "metadata": {},
          "execution_count": 37
        }
      ]
    },
    {
      "cell_type": "code",
      "metadata": {
        "colab": {
          "base_uri": "https://localhost:8080/"
        },
        "id": "HJC9Jl0Yp-4O",
        "outputId": "14c7e5ae-7d02-4d15-e162-0ac123588df8"
      },
      "source": [
        "data.shape"
      ],
      "execution_count": 38,
      "outputs": [
        {
          "output_type": "execute_result",
          "data": {
            "text/plain": [
              "(30588, 4)"
            ]
          },
          "metadata": {},
          "execution_count": 38
        }
      ]
    },
    {
      "cell_type": "code",
      "metadata": {
        "id": "L6JBV9x9yFAu"
      },
      "source": [
        "from pandas.core.common import flatten\n",
        "from collections import Counter\n",
        "import matplotlib.pyplot as plt\n",
        "\n",
        "all_games = list(flatten(list(data['all_games'])))\n",
        "games_played = Counter(all_games)\n",
        "games_played = {k: v for k, v in sorted(games_played.items(), key=lambda item: item[1], reverse=True)}\n",
        "# games_played"
      ],
      "execution_count": 39,
      "outputs": []
    },
    {
      "cell_type": "code",
      "metadata": {
        "id": "1M7cU_2Q4CVL"
      },
      "source": [
        "games_played"
      ],
      "execution_count": null,
      "outputs": []
    },
    {
      "cell_type": "code",
      "metadata": {
        "colab": {
          "base_uri": "https://localhost:8080/"
        },
        "id": "lkCZvOH_pjQn",
        "outputId": "51b62ae4-01ea-4a59-d644-723f618dde92"
      },
      "source": [
        "7 in games_played"
      ],
      "execution_count": 23,
      "outputs": [
        {
          "output_type": "execute_result",
          "data": {
            "text/plain": [
              "True"
            ]
          },
          "metadata": {},
          "execution_count": 23
        }
      ]
    },
    {
      "cell_type": "markdown",
      "metadata": {
        "id": "eA9N1Lm-ckA2"
      },
      "source": [
        "As the model implemented in the cornac library accoets data in the **MovieLens** dataset format, I have created a new dataframe that has similar properties as the mentioned dataset."
      ]
    },
    {
      "cell_type": "code",
      "metadata": {
        "id": "vZztDeKGoY_v"
      },
      "source": [
        "def movieLensify(data, games_played):\n",
        "    header=[\"userID\", \"itemID\", \"rating\"]\n",
        "    user_id, item_id, rating = [], [], []\n",
        "    users = data['id']\n",
        "    for idx, user in enumerate(users):\n",
        "        user_games = data['all_games'][idx]\n",
        "        for game in user_games:\n",
        "\n",
        "            if games_played[game] > 150:\n",
        "                user_id.append(user)\n",
        "                item_id.append(game)\n",
        "                rating.append(1)\n",
        "    return pd.DataFrame(data={\"userID\": user_id, \"itemID\": item_id, \"rating\": rating})"
      ],
      "execution_count": 41,
      "outputs": []
    },
    {
      "cell_type": "code",
      "metadata": {
        "id": "Q0d2UgiYql1g"
      },
      "source": [
        "data = movieLensify(data, games_played)"
      ],
      "execution_count": 43,
      "outputs": []
    },
    {
      "cell_type": "code",
      "metadata": {
        "id": "e1VgPbp0mXND",
        "colab": {
          "base_uri": "https://localhost:8080/"
        },
        "outputId": "5c2d7944-2aff-4039-ca61-5b6e6106bbc2"
      },
      "source": [
        "data.shape"
      ],
      "execution_count": 44,
      "outputs": [
        {
          "output_type": "execute_result",
          "data": {
            "text/plain": [
              "(194004, 3)"
            ]
          },
          "metadata": {},
          "execution_count": 44
        }
      ]
    },
    {
      "cell_type": "code",
      "metadata": {
        "colab": {
          "base_uri": "https://localhost:8080/"
        },
        "id": "F--e9OuWoCI8",
        "outputId": "600171ef-60e0-4777-dff0-b895b511feef"
      },
      "source": [
        "121 in list(data['userID'])"
      ],
      "execution_count": 45,
      "outputs": [
        {
          "output_type": "execute_result",
          "data": {
            "text/plain": [
              "True"
            ]
          },
          "metadata": {},
          "execution_count": 45
        }
      ]
    },
    {
      "cell_type": "markdown",
      "metadata": {
        "id": "iegRwO7TePk3"
      },
      "source": [
        "## Cornac Dataset"
      ]
    },
    {
      "cell_type": "code",
      "metadata": {
        "colab": {
          "base_uri": "https://localhost:8080/"
        },
        "id": "p66DxkCMeNCA",
        "outputId": "6ac19021-553a-4424-fe7f-961662a9bba3"
      },
      "source": [
        "train_set = cornac.data.Dataset.from_uir(data.itertuples(index=False), seed=SEED)\n",
        "\n",
        "print('Number of users: {}'.format(train_set.num_users))\n",
        "print('Number of items: {}'.format(train_set.num_items))"
      ],
      "execution_count": 46,
      "outputs": [
        {
          "output_type": "stream",
          "text": [
            "Number of users: 30517\n",
            "Number of items: 356\n"
          ],
          "name": "stdout"
        },
        {
          "output_type": "stream",
          "text": [
            "/usr/local/lib/python3.7/dist-packages/cornac/data/dataset.py:361: UserWarning: 5972 duplicated observations are removed!\n",
            "  warnings.warn(\"%d duplicated observations are removed!\" % dup_count)\n"
          ],
          "name": "stderr"
        }
      ]
    },
    {
      "cell_type": "markdown",
      "metadata": {
        "id": "T5F8BOrjXxWM"
      },
      "source": [
        "## 1 BPR Algorithm\n",
        "\n",
        "### 1.1 Personalized Ranking from Implicit Feedback\n",
        "\n",
        "The task of personalized ranking aims at providing each user a ranked list of items (recommendations).  This is very common in scenarios where recommender systems are based on implicit user behavior (e.g. purchases, clicks).  The available observations are only positive feedback where the non-observed ones are a mixture of real negative feedback and missing values.\n",
        "\n",
        "One usual approach for item recommendation is directly predicting a preference score $\\hat{x}_{u,i}$ given to item $i$ by user $u$.  BPR uses a different approach by using item pairs $(i, j)$ and optimizing for the correct ranking given preference of user $u$, thus, there are notions of *positive* and *negative* items.  The training data $D_S : U \\times I \\times I$ is defined as:\n",
        "\n",
        "$$D_S = \\{(u, i, j) \\mid i \\in I^{+}_{u} \\wedge j \\in I \\setminus I^{+}_{u}\\}$$\n",
        "\n",
        "where user $u$ is assumed to prefer $i$ over $j$ (i.e. $i$ is a *positive item* and $j$ is a *negative item*).\n",
        "\n",
        "\n",
        "### 1.2 Objective Function\n",
        "\n",
        "From the Bayesian perspective, BPR maximizes the posterior probability over the model parameters $\\Theta$ by optimizing the likelihood function $p(i >_{u} j | \\Theta)$ and the prior probability $p(\\Theta)$.\n",
        "\n",
        "$$p(\\Theta \\mid >_{u}) \\propto p(i >_{u} j \\mid \\Theta) \\times p(\\Theta)$$\n",
        "\n",
        "The joint probability of the likelihood over all users $u \\in U$ can be simplified to:\n",
        "\n",
        "$$ \\prod_{u \\in U} p(>_{u} \\mid \\Theta) = \\prod_{(u, i, j) \\in D_S} p(i >_{u} j \\mid \\Theta) $$\n",
        "\n",
        "The individual probability that a user $u$ prefers item $i$ to item $j$ can be defined as:\n",
        "\n",
        "$$ p(i >_{u} j \\mid \\Theta) = \\sigma (\\hat{x}_{uij}(\\Theta)) $$\n",
        "\n",
        "where $\\sigma$ is the logistic sigmoid:\n",
        "\n",
        "$$ \\sigma(x) = \\frac{1}{1 + e^{-x}} $$\n",
        "\n",
        "The preference scoring function $\\hat{x}_{uij}(\\Theta)$ could be an arbitrary real-valued function of the model parameter $\\Theta$.  Thus, it makes BPR a general framework for modeling the relationship between triplets $(u, i, j)$ where different model classes like matrix factorization could be used for estimating $\\hat{x}_{uij}(\\Theta)$.\n",
        "\n",
        "For the prior, one of the common pratices is to choose $p(\\Theta)$ following a normal distribution, which results in a nice form of L2 regularization in the final log-form of the objective function.\n",
        "\n",
        "$$ p(\\Theta) \\sim N(0, \\Sigma_{\\Theta}) $$\n",
        "\n",
        "To reduce the complexity of the model, all parameters $\\Theta$ are assumed to be independent and having the same variance, which gives a simpler form of the co-variance matrix $\\Sigma_{\\Theta} = \\lambda_{\\Theta}I$.  Thus, there are less number of hyperparameters to be determined.\n",
        "\n",
        "The final objective of the maximum posterior estimator:\n",
        "\n",
        "$$ J = \\sum_{(u, i, j) \\in D_S} \\text{ln } \\sigma(\\hat{x}_{uij}) - \\lambda_{\\Theta} ||\\Theta||^2 $$\n",
        "\n",
        "where $\\lambda_\\Theta$ are the model specific regularization paramerters.\n",
        "\n",
        "\n",
        "### 1.3 Learning with Matrix Factorization\n",
        "\n",
        "#### Stochastic Gradient Descent\n",
        "\n",
        "As the defined objective function is differentible, gradient descent based method for optimization is naturally adopted.  The gradient of the objective $J$ with respect to the model parameters:\n",
        "\n",
        "$$\n",
        "\\begin{align}\n",
        "\\frac{\\partial J}{\\partial \\Theta} & = \\sum_{(u, i, j) \\in D_S} \\frac{\\partial}{\\partial \\Theta} \\text{ln} \\ \\sigma(\\hat{x}_{uij}) - \\lambda_{\\Theta} \\frac{\\partial}{\\partial \\Theta} ||\\Theta||^2 \\\\\n",
        "& \\propto \\sum_{(u, i, j) \\in D_S} \\frac{-e^{-\\hat{x}_{uij}}}{1 + e^{-\\hat{x}_{uij}}} \\cdot  \\frac{\\partial}{\\partial \\Theta} \\hat{x}_{uij} - \\lambda_{\\Theta} \\Theta\n",
        "\\end{align}\n",
        "$$\n",
        "\n",
        "Due to slow convergence of full gradient descent, we prefer using stochastic gradient descent to optimize the BPR model.  For each triplet $(u, i, j) \\in D_S$, the update rule for the parameters:\n",
        "\n",
        "$$ \\Theta \\leftarrow \\Theta + \\alpha \\Big( \\frac{e^{-\\hat{x}_{uij}}}{1 + e^{-\\hat{x}_{uij}}} \\cdot \\frac{\\partial}{\\partial \\Theta} \\hat{x}_{uij} + \\lambda_\\Theta \\Theta \\Big) $$\n",
        "\n",
        "#### Matrix Factorization for Preference Approximation\n",
        "\n",
        "As mentioned earlier, the preference scoring function $\\hat{x}_{uij}(\\Theta)$ could be approximated by any real-valued function.  First, the estimator $\\hat{x}_{uij}$ is decomposed into:\n",
        "\n",
        "$$ \\hat{x}_{uij} = \\hat{x}_{ui} - \\hat{x}_{uj} $$\n",
        "\n",
        "The problem of estimating $\\hat{x}_{ui}$ is a standard collaborative filtering formulation, where matrix factorization approach has shown to be very effective.  The prediction formula can written as dot product between user feature vector $w_u$ and item feature vector $h_i$:\n",
        "\n",
        "$$ \\hat{x}_{ui} = \\langle w_u , h_i \\rangle = \\sum_{f=1}^{k} w_{uf} \\cdot h_{if} $$\n",
        "\n",
        "The  derivatives of matrix factorization with respect to the model parameters are:\n",
        "\n",
        "$$\n",
        "\\frac{\\partial}{\\partial \\theta} \\hat{x}_{uij} = \n",
        "\\begin{cases}\n",
        "    (h_{if} - h_{jf})  & \\text{if } \\theta = w_{uf} \\\\\n",
        "    w_{uf}             & \\text{if } \\theta = h_{if} \\\\\n",
        "    -w_{uf}            & \\text{if } \\theta = h_{jf} \\\\\n",
        "    0                  & \\text{else}\n",
        "\\end{cases}\n",
        "$$\n",
        "\n",
        "In theory, any kernel can be used to estimate $\\hat{x}_{ui}$ besides the dot product $ \\langle \\cdot , \\cdot \\rangle $.  For example, k-Nearest-Neighbor (kNN) has also been shown to achieve good performance.\n"
      ]
    },
    {
      "cell_type": "markdown",
      "metadata": {
        "id": "vll--FvxcItn"
      },
      "source": [
        "## Creating the model using **cornac** library"
      ]
    },
    {
      "cell_type": "code",
      "metadata": {
        "id": "V0R0KKcJmXNE"
      },
      "source": [
        "bpr = cornac.models.BPR(\n",
        "    k=NUM_FACTORS,\n",
        "    max_iter=NUM_EPOCHS,\n",
        "    learning_rate=0.01,\n",
        "    lambda_reg=0.001,\n",
        "    verbose=True,\n",
        "    seed=SEED\n",
        ")"
      ],
      "execution_count": 47,
      "outputs": []
    },
    {
      "cell_type": "code",
      "metadata": {
        "id": "y3LspJl0mXNF",
        "colab": {
          "base_uri": "https://localhost:8080/",
          "height": 83,
          "referenced_widgets": [
            "f43653b3146d4caabb6e7b65f8e71bf1",
            "be1fcba1ce314e498567080f9c1bbd8e",
            "2adb4cf1f83d4ed1a05ee9c0f81b5009",
            "7c99bdada71a4b19acdc4b5a33988437",
            "3418701891de4b26801046bec130ad53",
            "619099661dfb44a1a0a3fee35519ba9c",
            "a39925a9e5be4a78a2ee696fb86927c8",
            "2b23f63a27be47d790545fc031b0b887",
            "d1ca02f93ed44327b47af5139e3c4888",
            "28ab4bf220c14e6ea7cb373be13ab430",
            "a41607a3f35d4063b2705bade0f31268"
          ]
        },
        "outputId": "65e9d85c-e5f8-467d-d6bd-7141d6b9bf25"
      },
      "source": [
        "with Timer() as t:\n",
        "    bpr.fit(train_set)\n",
        "print(\"Took {} seconds for training.\".format(t))"
      ],
      "execution_count": 48,
      "outputs": [
        {
          "output_type": "display_data",
          "data": {
            "application/vnd.jupyter.widget-view+json": {
              "model_id": "f43653b3146d4caabb6e7b65f8e71bf1",
              "version_minor": 0,
              "version_major": 2
            },
            "text/plain": [
              "  0%|          | 0/100 [00:00<?, ?it/s]"
            ]
          },
          "metadata": {}
        },
        {
          "output_type": "stream",
          "text": [
            "Optimization finished!\n",
            "Took 15.2816 seconds for training.\n"
          ],
          "name": "stdout"
        }
      ]
    },
    {
      "cell_type": "code",
      "metadata": {
        "id": "zqSPLnhqmXNG",
        "colab": {
          "base_uri": "https://localhost:8080/"
        },
        "outputId": "b8fed48a-07b3-4158-8348-71d91e38a2bc"
      },
      "source": [
        "with Timer() as t:\n",
        "    all_predictions = predict_ranking(bpr, data, usercol='userID', itemcol='itemID', remove_seen=True)\n",
        "print(\"Took {} seconds for prediction.\".format(t))"
      ],
      "execution_count": 49,
      "outputs": [
        {
          "output_type": "stream",
          "text": [
            "Took 15.4132 seconds for prediction.\n"
          ],
          "name": "stdout"
        }
      ]
    },
    {
      "cell_type": "code",
      "metadata": {
        "id": "MW22QgEqmXNG",
        "colab": {
          "base_uri": "https://localhost:8080/"
        },
        "outputId": "c3d0a4a4-20e2-421f-9b7f-cc46e37b5529"
      },
      "source": [
        "test_user_ids[7]"
      ],
      "execution_count": 76,
      "outputs": [
        {
          "output_type": "execute_result",
          "data": {
            "text/plain": [
              "121"
            ]
          },
          "metadata": {},
          "execution_count": 76
        }
      ]
    },
    {
      "cell_type": "code",
      "metadata": {
        "colab": {
          "base_uri": "https://localhost:8080/"
        },
        "id": "LWhTxGagfCyT",
        "outputId": "012d3060-ea76-412e-f4de-827f0ba13e55"
      },
      "source": [
        "121 in list(all_predictions['userID'])"
      ],
      "execution_count": 77,
      "outputs": [
        {
          "output_type": "execute_result",
          "data": {
            "text/plain": [
              "False"
            ]
          },
          "metadata": {},
          "execution_count": 77
        }
      ]
    },
    {
      "cell_type": "code",
      "metadata": {
        "id": "bPG6Gr9aIRGa",
        "colab": {
          "base_uri": "https://localhost:8080/",
          "height": 49,
          "referenced_widgets": [
            "0be0580caecc44cf98ca3d435a819d33",
            "61ff6d461819401a92b03d72fe3b829a",
            "b72384b66d164dab8e0596f0f1b6df4c",
            "bceba39d2b284d20976cf5f992505ea8",
            "ee444c6d94fd4bc5b666c6cebc7ca778",
            "dc3853d3c80a4145a8a0af4bd0e469bd",
            "45154dba84004d94bd81515759013d39",
            "510396f850394f43b831065f72126eb4",
            "2ac8e4bae26c4c1cba895738a4ec17b7",
            "f7c0831e56634c26b59f866fcce79fc2",
            "ac92254071f4495fa18cd20d3a5cd985"
          ]
        },
        "outputId": "307753cf-6613-4bca-fd56-95c706c142fa"
      },
      "source": [
        "test_ids = test_user_ids\n",
        "predictions = []\n",
        "for id in tqdm(test_ids):\n",
        "    prediction = []\n",
        "    user_pred = all_predictions[all_predictions['userID'] == id]\n",
        "    user_pred = user_pred.sort_values(by='prediction', ascending=False)\n",
        "    prediction = user_pred['itemID'].tolist()[:5]\n",
        "    if prediction == []:\n",
        "        prediction = [1, 2, 3, 4, 6]\n",
        "    predictions.append(prediction)\n",
        "# predictions"
      ],
      "execution_count": 55,
      "outputs": [
        {
          "output_type": "display_data",
          "data": {
            "application/vnd.jupyter.widget-view+json": {
              "model_id": "0be0580caecc44cf98ca3d435a819d33",
              "version_minor": 0,
              "version_major": 2
            },
            "text/plain": [
              "  0%|          | 0/7647 [00:00<?, ?it/s]"
            ]
          },
          "metadata": {}
        }
      ]
    },
    {
      "cell_type": "code",
      "metadata": {
        "id": "7RmkkF-jumFS"
      },
      "source": [
        "predictions"
      ],
      "execution_count": null,
      "outputs": []
    },
    {
      "cell_type": "markdown",
      "metadata": {
        "id": "G-NW2zYtfq6Y"
      },
      "source": [
        "## Top-k hitrate"
      ]
    },
    {
      "cell_type": "code",
      "metadata": {
        "id": "6whnoieJfpKo"
      },
      "source": [
        "def topk_hitrate(next_items, predictions):\n",
        "    hits = 0\n",
        "    for item, prediction in zip(next_items, predictions):\n",
        "        if item in prediction:\n",
        "            hits += 1\n",
        "    return hits/len(predictions)"
      ],
      "execution_count": 65,
      "outputs": []
    },
    {
      "cell_type": "code",
      "metadata": {
        "colab": {
          "base_uri": "https://localhost:8080/"
        },
        "id": "0Uh_mGScgUB9",
        "outputId": "7fcb424d-9a7d-4f5d-9c9f-b01ce6bbab83"
      },
      "source": [
        "print(f'top k hitrate: {topk_hitrate(test_next_games, predictions)}')"
      ],
      "execution_count": 66,
      "outputs": [
        {
          "output_type": "stream",
          "text": [
            "top k hitrate: 0.12462403556950438\n"
          ],
          "name": "stdout"
        }
      ]
    }
  ]
}